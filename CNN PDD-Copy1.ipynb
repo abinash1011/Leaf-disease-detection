{
 "cells": [
  {
   "cell_type": "code",
   "execution_count": 4,
   "id": "f9ad132e-bc6a-4100-a101-350c261e6dc6",
   "metadata": {
    "execution": {
     "iopub.execute_input": "2023-09-26T14:41:43.841489Z",
     "iopub.status.busy": "2023-09-26T14:41:43.841084Z",
     "iopub.status.idle": "2023-09-26T14:41:49.598719Z",
     "shell.execute_reply": "2023-09-26T14:41:49.598062Z",
     "shell.execute_reply.started": "2023-09-26T14:41:43.841464Z"
    }
   },
   "outputs": [
    {
     "name": "stderr",
     "output_type": "stream",
     "text": [
      "2023-09-26 14:41:44.524415: I tensorflow/core/util/port.cc:110] oneDNN custom operations are on. You may see slightly different numerical results due to floating-point round-off errors from different computation orders. To turn them off, set the environment variable `TF_ENABLE_ONEDNN_OPTS=0`.\n",
      "2023-09-26 14:41:44.598670: I tensorflow/tsl/cuda/cudart_stub.cc:28] Could not find cuda drivers on your machine, GPU will not be used.\n",
      "2023-09-26 14:41:45.111403: I tensorflow/tsl/cuda/cudart_stub.cc:28] Could not find cuda drivers on your machine, GPU will not be used.\n",
      "2023-09-26 14:41:45.113939: I tensorflow/core/platform/cpu_feature_guard.cc:182] This TensorFlow binary is optimized to use available CPU instructions in performance-critical operations.\n",
      "To enable the following instructions: AVX2 AVX512F AVX512_VNNI FMA, in other operations, rebuild TensorFlow with the appropriate compiler flags.\n",
      "2023-09-26 14:41:46.626796: W tensorflow/compiler/tf2tensorrt/utils/py_utils.cc:38] TF-TRT Warning: Could not find TensorRT\n"
     ]
    }
   ],
   "source": [
    "import warnings\n",
    "warnings.filterwarnings(\"ignore\")\n",
    "import tensorflow as tf\n",
    "import matplotlib.pyplot as plt\n",
    "tf.compat.v1.set_random_seed(0)\n",
    "from tensorflow import keras\n",
    "import numpy as np\n",
    "np.random.seed(0)\n",
    "import itertools\n",
    "from tensorflow.keras.preprocessing import image_dataset_from_directory\n",
    "from tensorflow.keras.layers.experimental.preprocessing import Rescaling\n",
    "from sklearn.metrics import precision_score, accuracy_score, recall_score, confusion_matrix, ConfusionMatrixDisplay"
   ]
  },
  {
   "cell_type": "code",
   "execution_count": null,
   "id": "fe8e4891-6e07-4d66-93b3-fef5dbc2924b",
   "metadata": {},
   "outputs": [],
   "source": []
  },
  {
   "cell_type": "code",
   "execution_count": 9,
   "id": "9bed6267-6562-4d59-ac3f-a5549874cb80",
   "metadata": {
    "execution": {
     "iopub.execute_input": "2023-09-26T17:23:17.446726Z",
     "iopub.status.busy": "2023-09-26T17:23:17.446337Z",
     "iopub.status.idle": "2023-09-26T17:23:17.453713Z",
     "shell.execute_reply": "2023-09-26T17:23:17.453035Z",
     "shell.execute_reply.started": "2023-09-26T17:23:17.446701Z"
    }
   },
   "outputs": [],
   "source": [
    "interpreter = tf.lite.Interpreter(model_path='/home/ashutosh/work/od/plant_disease/AllPlantDiseaseCNN.tflite')\n",
    "interpreter.allocate_tensors()"
   ]
  },
  {
   "cell_type": "code",
   "execution_count": 16,
   "id": "89136ec4-1d06-4c92-ba12-803239816cc7",
   "metadata": {
    "execution": {
     "iopub.execute_input": "2023-09-26T17:28:34.526973Z",
     "iopub.status.busy": "2023-09-26T17:28:34.526580Z",
     "iopub.status.idle": "2023-09-26T17:28:34.530373Z",
     "shell.execute_reply": "2023-09-26T17:28:34.529701Z",
     "shell.execute_reply.started": "2023-09-26T17:28:34.526949Z"
    }
   },
   "outputs": [],
   "source": [
    "input_details = interpreter.get_input_details()\n",
    "output_details = interpreter.get_output_details()\n",
    "input_index = input_details[0]['index'] "
   ]
  },
  {
   "cell_type": "code",
   "execution_count": 23,
   "id": "ddb22590-3e21-4cac-b6b3-c88dd015bd23",
   "metadata": {
    "execution": {
     "iopub.execute_input": "2023-09-26T17:30:31.174300Z",
     "iopub.status.busy": "2023-09-26T17:30:31.173910Z",
     "iopub.status.idle": "2023-09-26T17:30:31.177304Z",
     "shell.execute_reply": "2023-09-26T17:30:31.176778Z",
     "shell.execute_reply.started": "2023-09-26T17:30:31.174276Z"
    }
   },
   "outputs": [],
   "source": [
    "input_data = \"new-plant-diseases-dataset/new plant diseases dataset(augmented)/New Plant Diseases Dataset(Augmented)/train/Apple___Cedar_apple_rust/025b2b9a-0ec4-4132-96ac-7f2832d0db4a___FREC_C.Rust 3655_180deg.JPG\""
   ]
  },
  {
   "cell_type": "code",
   "execution_count": 3,
   "id": "05281fa5-4e1e-4003-8635-4ea5774f6652",
   "metadata": {
    "execution": {
     "iopub.execute_input": "2023-09-27T05:43:29.428632Z",
     "iopub.status.busy": "2023-09-27T05:43:29.427932Z",
     "iopub.status.idle": "2023-09-27T05:43:29.433448Z",
     "shell.execute_reply": "2023-09-27T05:43:29.432793Z",
     "shell.execute_reply.started": "2023-09-27T05:43:29.428606Z"
    }
   },
   "outputs": [],
   "source": [
    "import cv2 \n",
    "import numpy as np\n",
    "image = cv2.imread(input_data)\n",
    "image = cv2.cvtColor(image, cv2.COLOR_BGR2RGB) \n",
    "\n",
    "model_image_size = (100, 100)\n",
    "resized_image = cv2.resize(image, model_image_size, interpolation = cv2.INTER_CUBIC)\n",
    "resized_image = resized_image.astype(np.float32)\n",
    "resized_image /= 255\n",
    "test_image = np.expand_dims(resized_image, axis=0)\n"
   ]
  },
  {
   "cell_type": "code",
   "execution_count": 32,
   "id": "90134c26-4427-4b03-92e5-fc4620a5f8b2",
   "metadata": {
    "execution": {
     "iopub.execute_input": "2023-09-27T04:57:39.915574Z",
     "iopub.status.busy": "2023-09-27T04:57:39.915177Z",
     "iopub.status.idle": "2023-09-27T04:57:39.923667Z",
     "shell.execute_reply": "2023-09-27T04:57:39.923108Z",
     "shell.execute_reply.started": "2023-09-27T04:57:39.915552Z"
    }
   },
   "outputs": [],
   "source": [
    "# Set the input tensor\n",
    "interpreter.set_tensor(input_index, test_image)\n",
    "\n",
    "# Run inference\n",
    "interpreter.invoke()\n",
    "\n",
    "# Get the output tensor\n",
    "output_details = interpreter.get_output_details()\n",
    "output_index = output_details[0]['index']\n",
    "output_data = interpreter.get_tensor(output_index)"
   ]
  },
  {
   "cell_type": "code",
   "execution_count": 26,
   "id": "112cc98c-8b33-47de-a375-25de140aed88",
   "metadata": {
    "execution": {
     "iopub.execute_input": "2023-09-27T04:43:32.052688Z",
     "iopub.status.busy": "2023-09-27T04:43:32.052300Z",
     "iopub.status.idle": "2023-09-27T04:43:32.057469Z",
     "shell.execute_reply": "2023-09-27T04:43:32.056890Z",
     "shell.execute_reply.started": "2023-09-27T04:43:32.052665Z"
    }
   },
   "outputs": [
    {
     "data": {
      "text/plain": [
       "[{'name': 'serving_default_conv2d_input:0',\n",
       "  'index': 0,\n",
       "  'shape': array([  1, 100, 100,   3], dtype=int32),\n",
       "  'shape_signature': array([ -1, 100, 100,   3], dtype=int32),\n",
       "  'dtype': numpy.float32,\n",
       "  'quantization': (0.0, 0),\n",
       "  'quantization_parameters': {'scales': array([], dtype=float32),\n",
       "   'zero_points': array([], dtype=int32),\n",
       "   'quantized_dimension': 0},\n",
       "  'sparsity_parameters': {}}]"
      ]
     },
     "execution_count": 26,
     "metadata": {},
     "output_type": "execute_result"
    }
   ],
   "source": [
    "input_details"
   ]
  },
  {
   "cell_type": "code",
   "execution_count": null,
   "id": "27572123-ba8f-475b-8395-161bb8ee09ec",
   "metadata": {},
   "outputs": [],
   "source": []
  },
  {
   "cell_type": "code",
   "execution_count": 4,
   "id": "e1480192-8770-4875-a3c4-d174190e1dd1",
   "metadata": {
    "execution": {
     "iopub.execute_input": "2023-09-27T05:43:57.601351Z",
     "iopub.status.busy": "2023-09-27T05:43:57.600949Z",
     "iopub.status.idle": "2023-09-27T05:43:59.510407Z",
     "shell.execute_reply": "2023-09-27T05:43:59.509771Z",
     "shell.execute_reply.started": "2023-09-27T05:43:57.601327Z"
    }
   },
   "outputs": [
    {
     "name": "stderr",
     "output_type": "stream",
     "text": [
      "2023-09-27 05:43:57.801023: I tensorflow/core/util/port.cc:110] oneDNN custom operations are on. You may see slightly different numerical results due to floating-point round-off errors from different computation orders. To turn them off, set the environment variable `TF_ENABLE_ONEDNN_OPTS=0`.\n",
      "2023-09-27 05:43:57.802999: I tensorflow/tsl/cuda/cudart_stub.cc:28] Could not find cuda drivers on your machine, GPU will not be used.\n",
      "2023-09-27 05:43:57.844948: I tensorflow/tsl/cuda/cudart_stub.cc:28] Could not find cuda drivers on your machine, GPU will not be used.\n",
      "2023-09-27 05:43:57.845755: I tensorflow/core/platform/cpu_feature_guard.cc:182] This TensorFlow binary is optimized to use available CPU instructions in performance-critical operations.\n",
      "To enable the following instructions: AVX2 AVX512F AVX512_VNNI FMA, in other operations, rebuild TensorFlow with the appropriate compiler flags.\n",
      "2023-09-27 05:43:58.538906: W tensorflow/compiler/tf2tensorrt/utils/py_utils.cc:38] TF-TRT Warning: Could not find TensorRT\n"
     ]
    }
   ],
   "source": [
    "import tensorflow as tf\n",
    "\n",
    "\n",
    "def run_tflite_model(tflite_file, test_image):\n",
    "\n",
    "    interpreter = tf.lite.Interpreter(model_path=str(tflite_file))\n",
    "    interpreter.allocate_tensors()\n",
    "    input_details = interpreter.get_input_details()\n",
    "    input_index = input_details[0]['index'] \n",
    "\n",
    "    interpreter.set_tensor(input_index, test_image)\n",
    "    interpreter.invoke()\n",
    "    output_details = interpreter.get_output_details()\n",
    "    output_index = output_details[0]['index']\n",
    "    output_data = interpreter.get_tensor(output_index)\n",
    "\n",
    "    prediction = output.argmax()\n",
    "\n",
    "    return prediction"
   ]
  },
  {
   "cell_type": "code",
   "execution_count": 6,
   "id": "04cd9c99-d1bd-4f90-938d-886f1f023cba",
   "metadata": {
    "execution": {
     "iopub.execute_input": "2023-09-27T05:44:15.170753Z",
     "iopub.status.busy": "2023-09-27T05:44:15.170353Z",
     "iopub.status.idle": "2023-09-27T05:44:15.173947Z",
     "shell.execute_reply": "2023-09-27T05:44:15.173356Z",
     "shell.execute_reply.started": "2023-09-27T05:44:15.170730Z"
    }
   },
   "outputs": [],
   "source": [
    "import cv2\n",
    "import numpy as np"
   ]
  },
  {
   "cell_type": "code",
   "execution_count": 7,
   "id": "63e7c71d-b9cc-4774-bef5-e5f44c7c8fee",
   "metadata": {
    "execution": {
     "iopub.execute_input": "2023-09-27T05:44:16.714812Z",
     "iopub.status.busy": "2023-09-27T05:44:16.714406Z",
     "iopub.status.idle": "2023-09-27T05:44:16.937619Z",
     "shell.execute_reply": "2023-09-27T05:44:16.936852Z",
     "shell.execute_reply.started": "2023-09-27T05:44:16.714789Z"
    }
   },
   "outputs": [
    {
     "ename": "ValueError",
     "evalue": "Could not open 'plant_disease/AllPlantDiseaseCNN.tflite'.",
     "output_type": "error",
     "traceback": [
      "\u001b[0;31m---------------------------------------------------------------------------\u001b[0m",
      "\u001b[0;31mValueError\u001b[0m                                Traceback (most recent call last)",
      "Cell \u001b[0;32mIn[7], line 13\u001b[0m\n\u001b[1;32m     10\u001b[0m resized_image \u001b[38;5;241m/\u001b[39m\u001b[38;5;241m=\u001b[39m \u001b[38;5;241m255\u001b[39m\n\u001b[1;32m     12\u001b[0m test_image \u001b[38;5;241m=\u001b[39m np\u001b[38;5;241m.\u001b[39mexpand_dims(test_image, axis\u001b[38;5;241m=\u001b[39m\u001b[38;5;241m0\u001b[39m)\n\u001b[0;32m---> 13\u001b[0m prediction \u001b[38;5;241m=\u001b[39m \u001b[43mrun_tflite_model\u001b[49m\u001b[43m(\u001b[49m\u001b[43mconverted_model\u001b[49m\u001b[43m,\u001b[49m\u001b[43m \u001b[49m\u001b[43mtest_image\u001b[49m\u001b[43m)\u001b[49m\n\u001b[1;32m     15\u001b[0m \u001b[38;5;28mprint\u001b[39m(prediction)\n",
      "Cell \u001b[0;32mIn[4], line 6\u001b[0m, in \u001b[0;36mrun_tflite_model\u001b[0;34m(tflite_file, test_image)\u001b[0m\n\u001b[1;32m      4\u001b[0m \u001b[38;5;28;01mdef\u001b[39;00m \u001b[38;5;21mrun_tflite_model\u001b[39m(tflite_file, test_image):\n\u001b[0;32m----> 6\u001b[0m     interpreter \u001b[38;5;241m=\u001b[39m \u001b[43mtf\u001b[49m\u001b[38;5;241;43m.\u001b[39;49m\u001b[43mlite\u001b[49m\u001b[38;5;241;43m.\u001b[39;49m\u001b[43mInterpreter\u001b[49m\u001b[43m(\u001b[49m\u001b[43mmodel_path\u001b[49m\u001b[38;5;241;43m=\u001b[39;49m\u001b[38;5;28;43mstr\u001b[39;49m\u001b[43m(\u001b[49m\u001b[43mtflite_file\u001b[49m\u001b[43m)\u001b[49m\u001b[43m)\u001b[49m\n\u001b[1;32m      7\u001b[0m     interpreter\u001b[38;5;241m.\u001b[39mallocate_tensors()\n\u001b[1;32m      8\u001b[0m     input_details \u001b[38;5;241m=\u001b[39m interpreter\u001b[38;5;241m.\u001b[39mget_input_details()\n",
      "File \u001b[0;32m~/miniconda3/envs/other_od/lib/python3.10/site-packages/tensorflow/lite/python/interpreter.py:464\u001b[0m, in \u001b[0;36mInterpreter.__init__\u001b[0;34m(self, model_path, model_content, experimental_delegates, num_threads, experimental_op_resolver_type, experimental_preserve_all_tensors, experimental_disable_delegate_clustering)\u001b[0m\n\u001b[1;32m    458\u001b[0m custom_op_registerers_by_name \u001b[38;5;241m=\u001b[39m [\n\u001b[1;32m    459\u001b[0m     x \u001b[38;5;28;01mfor\u001b[39;00m x \u001b[38;5;129;01min\u001b[39;00m \u001b[38;5;28mself\u001b[39m\u001b[38;5;241m.\u001b[39m_custom_op_registerers \u001b[38;5;28;01mif\u001b[39;00m \u001b[38;5;28misinstance\u001b[39m(x, \u001b[38;5;28mstr\u001b[39m)\n\u001b[1;32m    460\u001b[0m ]\n\u001b[1;32m    461\u001b[0m custom_op_registerers_by_func \u001b[38;5;241m=\u001b[39m [\n\u001b[1;32m    462\u001b[0m     x \u001b[38;5;28;01mfor\u001b[39;00m x \u001b[38;5;129;01min\u001b[39;00m \u001b[38;5;28mself\u001b[39m\u001b[38;5;241m.\u001b[39m_custom_op_registerers \u001b[38;5;28;01mif\u001b[39;00m \u001b[38;5;129;01mnot\u001b[39;00m \u001b[38;5;28misinstance\u001b[39m(x, \u001b[38;5;28mstr\u001b[39m)\n\u001b[1;32m    463\u001b[0m ]\n\u001b[0;32m--> 464\u001b[0m \u001b[38;5;28mself\u001b[39m\u001b[38;5;241m.\u001b[39m_interpreter \u001b[38;5;241m=\u001b[39m \u001b[43m_interpreter_wrapper\u001b[49m\u001b[38;5;241;43m.\u001b[39;49m\u001b[43mCreateWrapperFromFile\u001b[49m\u001b[43m(\u001b[49m\n\u001b[1;32m    465\u001b[0m \u001b[43m    \u001b[49m\u001b[43mmodel_path\u001b[49m\u001b[43m,\u001b[49m\n\u001b[1;32m    466\u001b[0m \u001b[43m    \u001b[49m\u001b[43mop_resolver_id\u001b[49m\u001b[43m,\u001b[49m\n\u001b[1;32m    467\u001b[0m \u001b[43m    \u001b[49m\u001b[43mcustom_op_registerers_by_name\u001b[49m\u001b[43m,\u001b[49m\n\u001b[1;32m    468\u001b[0m \u001b[43m    \u001b[49m\u001b[43mcustom_op_registerers_by_func\u001b[49m\u001b[43m,\u001b[49m\n\u001b[1;32m    469\u001b[0m \u001b[43m    \u001b[49m\u001b[43mexperimental_preserve_all_tensors\u001b[49m\u001b[43m,\u001b[49m\n\u001b[1;32m    470\u001b[0m \u001b[43m    \u001b[49m\u001b[43mexperimental_disable_delegate_clustering\u001b[49m\u001b[43m,\u001b[49m\n\u001b[1;32m    471\u001b[0m \u001b[43m\u001b[49m\u001b[43m)\u001b[49m\n\u001b[1;32m    472\u001b[0m \u001b[38;5;28;01mif\u001b[39;00m \u001b[38;5;129;01mnot\u001b[39;00m \u001b[38;5;28mself\u001b[39m\u001b[38;5;241m.\u001b[39m_interpreter:\n\u001b[1;32m    473\u001b[0m   \u001b[38;5;28;01mraise\u001b[39;00m \u001b[38;5;167;01mValueError\u001b[39;00m(\u001b[38;5;124m'\u001b[39m\u001b[38;5;124mFailed to open \u001b[39m\u001b[38;5;132;01m{}\u001b[39;00m\u001b[38;5;124m'\u001b[39m\u001b[38;5;241m.\u001b[39mformat(model_path))\n",
      "\u001b[0;31mValueError\u001b[0m: Could not open 'plant_disease/AllPlantDiseaseCNN.tflite'."
     ]
    }
   ],
   "source": [
    "converted_model = 'plant_disease/AllPlantDiseaseCNN.tflite'\n",
    "input_data = \"new-plant-diseases-dataset/new plant diseases dataset(augmented)/New Plant Diseases Dataset(Augmented)/train/Apple___Cedar_apple_rust/025b2b9a-0ec4-4132-96ac-7f2832d0db4a___FREC_C.Rust 3655_180deg.JPG\"\n",
    "\n",
    "img = cv2.imread(input_data)\n",
    "image = cv2.cvtColor(image, cv2.COLOR_BGR2RGB) \n",
    "\n",
    "# resized = cv2.resize(image, (100, 100)).astype('float32')\n",
    "resized_image = cv2.resize(image, (100, 100), interpolation = cv2.INTER_CUBIC)\n",
    "resized_image = resized_image.astype(np.float32)\n",
    "resized_image /= 255\n",
    "\n",
    "test_image = np.expand_dims(test_image, axis=0)\n",
    "prediction = run_tflite_model(converted_model, test_image)\n",
    "\n",
    "print(prediction)"
   ]
  },
  {
   "cell_type": "code",
   "execution_count": 8,
   "id": "705591d6-0357-4041-90e6-00f41cd63ef4",
   "metadata": {
    "execution": {
     "iopub.execute_input": "2023-09-27T06:40:44.947730Z",
     "iopub.status.busy": "2023-09-27T06:40:44.947325Z",
     "iopub.status.idle": "2023-09-27T06:40:45.067951Z",
     "shell.execute_reply": "2023-09-27T06:40:45.066993Z",
     "shell.execute_reply.started": "2023-09-27T06:40:44.947705Z"
    }
   },
   "outputs": [
    {
     "name": "stdout",
     "output_type": "stream",
     "text": [
      "/home/ashutosh/work/od/plant_disease\n"
     ]
    }
   ],
   "source": [
    "!pwd"
   ]
  },
  {
   "cell_type": "code",
   "execution_count": null,
   "id": "224d4e6a-2f2b-425a-9687-71f394e3c5ce",
   "metadata": {},
   "outputs": [],
   "source": []
  },
  {
   "cell_type": "code",
   "execution_count": null,
   "id": "e1571aaf-fbe8-45d2-a50e-360ca0ace0c7",
   "metadata": {},
   "outputs": [],
   "source": []
  },
  {
   "cell_type": "code",
   "execution_count": null,
   "id": "fd35a4dd-b398-41d9-98e7-93bbbc089c6d",
   "metadata": {},
   "outputs": [],
   "source": []
  },
  {
   "cell_type": "code",
   "execution_count": null,
   "id": "a1aaf2dd-045f-498f-bd56-669da7fbcfed",
   "metadata": {},
   "outputs": [],
   "source": []
  }
 ],
 "metadata": {
  "kernelspec": {
   "display_name": "other_od",
   "language": "python",
   "name": "myenv"
  },
  "language_info": {
   "codemirror_mode": {
    "name": "ipython",
    "version": 3
   },
   "file_extension": ".py",
   "mimetype": "text/x-python",
   "name": "python",
   "nbconvert_exporter": "python",
   "pygments_lexer": "ipython3",
   "version": "3.10.0"
  }
 },
 "nbformat": 4,
 "nbformat_minor": 5
}
