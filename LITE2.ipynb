{
 "cells": [
  {
   "cell_type": "code",
   "execution_count": 1,
   "id": "2c5b50b2-1610-4669-ab72-0fc08e26bca9",
   "metadata": {
    "execution": {
     "iopub.execute_input": "2023-09-25T09:03:43.635444Z",
     "iopub.status.busy": "2023-09-25T09:03:43.635052Z",
     "iopub.status.idle": "2023-09-25T09:03:44.520690Z",
     "shell.execute_reply": "2023-09-25T09:03:44.519945Z",
     "shell.execute_reply.started": "2023-09-25T09:03:43.635419Z"
    }
   },
   "outputs": [
    {
     "name": "stdout",
     "output_type": "stream",
     "text": [
      "--2023-09-25 09:03:43--  https://www.kaggle.com/datasets/vipoooool/new-plant-diseases-dataset/download?datasetVersionNumber=2\n",
      "Resolving www.kaggle.com (www.kaggle.com)... 35.244.233.98\n",
      "Connecting to www.kaggle.com (www.kaggle.com)|35.244.233.98|:443... connected.\n",
      "HTTP request sent, awaiting response... 302 Found\n",
      "Location: /account/login?titleType=dataset-downloads&showDatasetDownloadSkip=False&messageId=datasetsWelcome&returnUrl=%2Fdatasets%2Fvipoooool%2Fnew-plant-diseases-dataset%2Fversions%2F2%3Fresource%3Ddownload [following]\n",
      "--2023-09-25 09:03:44--  https://www.kaggle.com/account/login?titleType=dataset-downloads&showDatasetDownloadSkip=False&messageId=datasetsWelcome&returnUrl=%2Fdatasets%2Fvipoooool%2Fnew-plant-diseases-dataset%2Fversions%2F2%3Fresource%3Ddownload\n",
      "Reusing existing connection to www.kaggle.com:443.\n",
      "HTTP request sent, awaiting response... 200 OK\n",
      "Length: unspecified [text/html]\n",
      "Saving to: ‘download?datasetVersionNumber=2’\n",
      "\n",
      "download?datasetVer     [ <=>                ]   4.76K  --.-KB/s    in 0.009s  \n",
      "\n",
      "2023-09-25 09:03:44 (515 KB/s) - ‘download?datasetVersionNumber=2’ saved [4873]\n",
      "\n"
     ]
    }
   ],
   "source": [
    "!wget https://www.kaggle.com/datasets/vipoooool/new-plant-diseases-dataset/download?datasetVersionNumber=2"
   ]
  },
  {
   "cell_type": "code",
   "execution_count": 3,
   "id": "a185e494-6188-4384-886e-f101c7e6925f",
   "metadata": {
    "execution": {
     "iopub.execute_input": "2023-09-25T09:14:27.385347Z",
     "iopub.status.busy": "2023-09-25T09:14:27.384954Z",
     "iopub.status.idle": "2023-09-25T09:14:27.497736Z",
     "shell.execute_reply": "2023-09-25T09:14:27.496973Z",
     "shell.execute_reply.started": "2023-09-25T09:14:27.385322Z"
    }
   },
   "outputs": [
    {
     "name": "stdout",
     "output_type": "stream",
     "text": [
      "/home/ashutosh/work/od/plant_disease\n"
     ]
    }
   ],
   "source": [
    "!pwd"
   ]
  },
  {
   "cell_type": "code",
   "execution_count": 4,
   "id": "db23cce6-2c98-4126-a87c-cff3f78cd5c3",
   "metadata": {
    "execution": {
     "iopub.execute_input": "2023-09-25T09:16:09.834604Z",
     "iopub.status.busy": "2023-09-25T09:16:09.834193Z",
     "iopub.status.idle": "2023-09-25T09:16:10.165577Z",
     "shell.execute_reply": "2023-09-25T09:16:10.164764Z",
     "shell.execute_reply.started": "2023-09-25T09:16:09.834580Z"
    }
   },
   "outputs": [],
   "source": [
    "!mkdir ~/.kaggle\n",
    "!mv ./kaggle.json ~/.kaggle/\n",
    "!chmod 600 ~/.kaggle/kaggle.json\n"
   ]
  },
  {
   "cell_type": "code",
   "execution_count": 6,
   "id": "c6f5ca51-187c-41a4-a442-d33d2227c7af",
   "metadata": {
    "execution": {
     "iopub.execute_input": "2023-09-25T09:19:09.033898Z",
     "iopub.status.busy": "2023-09-25T09:19:09.033469Z",
     "iopub.status.idle": "2023-09-25T09:19:09.146304Z",
     "shell.execute_reply": "2023-09-25T09:19:09.145515Z",
     "shell.execute_reply.started": "2023-09-25T09:19:09.033871Z"
    }
   },
   "outputs": [
    {
     "name": "stdout",
     "output_type": "stream",
     "text": [
      "/bin/bash: line 1: kaggle: command not found\n"
     ]
    }
   ],
   "source": [
    "!kaggle datasets download -d vipoooool/new-plant-diseases-dataset"
   ]
  },
  {
   "cell_type": "code",
   "execution_count": 7,
   "id": "e93e481c-a185-4a61-bf87-b5c958f8506f",
   "metadata": {
    "execution": {
     "iopub.execute_input": "2023-09-25T09:22:57.429122Z",
     "iopub.status.busy": "2023-09-25T09:22:57.428746Z",
     "iopub.status.idle": "2023-09-25T09:22:57.448719Z",
     "shell.execute_reply": "2023-09-25T09:22:57.448173Z",
     "shell.execute_reply.started": "2023-09-25T09:22:57.429101Z"
    }
   },
   "outputs": [],
   "source": [
    "import opendatasets as od"
   ]
  },
  {
   "cell_type": "code",
   "execution_count": 9,
   "id": "cbad759b-89ad-4da9-931c-54f2bfed4cb5",
   "metadata": {
    "execution": {
     "iopub.execute_input": "2023-09-25T18:41:01.910824Z",
     "iopub.status.busy": "2023-09-25T18:41:01.910458Z",
     "iopub.status.idle": "2023-09-25T18:44:27.645920Z",
     "shell.execute_reply": "2023-09-25T18:44:27.645259Z",
     "shell.execute_reply.started": "2023-09-25T18:41:01.910799Z"
    }
   },
   "outputs": [
    {
     "name": "stdout",
     "output_type": "stream",
     "text": [
      "Downloading new-plant-diseases-dataset.zip to ./new-plant-diseases-dataset\n"
     ]
    },
    {
     "name": "stderr",
     "output_type": "stream",
     "text": [
      "100%|█████████████████████████████████████████████████████| 2.70G/2.70G [02:59<00:00, 16.2MB/s]\n"
     ]
    },
    {
     "name": "stdout",
     "output_type": "stream",
     "text": [
      "\n"
     ]
    }
   ],
   "source": [
    "od.download('https://www.kaggle.com/datasets/vipoooool/new-plant-diseases-dataset/code?datasetId=78313&sortBy=voteCount')"
   ]
  },
  {
   "cell_type": "code",
   "execution_count": null,
   "id": "d235e263-30dc-4d2f-8753-463f3f252ed5",
   "metadata": {},
   "outputs": [],
   "source": []
  },
  {
   "cell_type": "code",
   "execution_count": 1,
   "id": "f9ad132e-bc6a-4100-a101-350c261e6dc6",
   "metadata": {
    "execution": {
     "iopub.execute_input": "2023-09-27T09:52:31.045710Z",
     "iopub.status.busy": "2023-09-27T09:52:31.045307Z",
     "iopub.status.idle": "2023-09-27T09:52:33.521885Z",
     "shell.execute_reply": "2023-09-27T09:52:33.521217Z",
     "shell.execute_reply.started": "2023-09-27T09:52:31.045672Z"
    }
   },
   "outputs": [
    {
     "name": "stderr",
     "output_type": "stream",
     "text": [
      "2023-09-27 09:52:31.254982: I tensorflow/core/util/port.cc:110] oneDNN custom operations are on. You may see slightly different numerical results due to floating-point round-off errors from different computation orders. To turn them off, set the environment variable `TF_ENABLE_ONEDNN_OPTS=0`.\n",
      "2023-09-27 09:52:31.256910: I tensorflow/tsl/cuda/cudart_stub.cc:28] Could not find cuda drivers on your machine, GPU will not be used.\n",
      "2023-09-27 09:52:31.298293: I tensorflow/tsl/cuda/cudart_stub.cc:28] Could not find cuda drivers on your machine, GPU will not be used.\n",
      "2023-09-27 09:52:31.299083: I tensorflow/core/platform/cpu_feature_guard.cc:182] This TensorFlow binary is optimized to use available CPU instructions in performance-critical operations.\n",
      "To enable the following instructions: AVX2 AVX512F AVX512_VNNI FMA, in other operations, rebuild TensorFlow with the appropriate compiler flags.\n",
      "2023-09-27 09:52:32.113312: W tensorflow/compiler/tf2tensorrt/utils/py_utils.cc:38] TF-TRT Warning: Could not find TensorRT\n"
     ]
    }
   ],
   "source": [
    "import warnings\n",
    "warnings.filterwarnings(\"ignore\")\n",
    "import tensorflow as tf\n",
    "import matplotlib.pyplot as plt\n",
    "tf.compat.v1.set_random_seed(0)\n",
    "from tensorflow import keras\n",
    "import numpy as np\n",
    "np.random.seed(0)\n",
    "import itertools\n",
    "from tensorflow.keras.preprocessing import image_dataset_from_directory\n",
    "from tensorflow.keras.layers.experimental.preprocessing import Rescaling\n",
    "from sklearn.metrics import precision_score, accuracy_score, recall_score, confusion_matrix, ConfusionMatrixDisplay"
   ]
  },
  {
   "cell_type": "code",
   "execution_count": 2,
   "id": "530aed30-d38e-4831-a593-8d5b83b02622",
   "metadata": {
    "execution": {
     "iopub.execute_input": "2023-09-27T09:52:38.329219Z",
     "iopub.status.busy": "2023-09-27T09:52:38.328613Z",
     "iopub.status.idle": "2023-09-27T09:52:43.653632Z",
     "shell.execute_reply": "2023-09-27T09:52:43.653012Z",
     "shell.execute_reply.started": "2023-09-27T09:52:38.329189Z"
    }
   },
   "outputs": [
    {
     "name": "stdout",
     "output_type": "stream",
     "text": [
      "Found 70295 files belonging to 38 classes.\n",
      "Found 70295 files belonging to 38 classes.\n"
     ]
    }
   ],
   "source": [
    "train_gen = image_dataset_from_directory(directory=\"/home/ashutosh/work/od/plant_disease/new-plant-diseases-dataset/New Plant Diseases Dataset(Augmented)/New Plant Diseases Dataset(Augmented)/train\",\n",
    "                                         image_size=(256, 256))\n",
    "test_gen = image_dataset_from_directory(directory=\"/home/ashutosh/work/od/plant_disease/new-plant-diseases-dataset/New Plant Diseases Dataset(Augmented)/New Plant Diseases Dataset(Augmented)/train\",\n",
    "                                        image_size=(256, 256))\n",
    "\n",
    "rescale = Rescaling(scale=1.0/255)\n",
    "train_gen = train_gen.map(lambda image,label:(rescale(image),label))\n",
    "test_gen  = test_gen.map(lambda image,label:(rescale(image),label))"
   ]
  },
  {
   "cell_type": "code",
   "execution_count": 7,
   "id": "9b433a02-12f0-4925-b38f-cd306e6391de",
   "metadata": {
    "execution": {
     "iopub.execute_input": "2023-09-27T09:57:31.393372Z",
     "iopub.status.busy": "2023-09-27T09:57:31.392976Z",
     "iopub.status.idle": "2023-09-27T09:57:31.561817Z",
     "shell.execute_reply": "2023-09-27T09:57:31.561256Z",
     "shell.execute_reply.started": "2023-09-27T09:57:31.393349Z"
    }
   },
   "outputs": [
    {
     "name": "stdout",
     "output_type": "stream",
     "text": [
      "Model: \"sequential_2\"\n",
      "_________________________________________________________________\n",
      " Layer (type)                Output Shape              Param #   \n",
      "=================================================================\n",
      " conv2d_16 (Conv2D)          (None, 256, 256, 32)      896       \n",
      "                                                                 \n",
      " conv2d_17 (Conv2D)          (None, 256, 256, 32)      9248      \n",
      "                                                                 \n",
      " max_pooling2d_6 (MaxPoolin  (None, 85, 85, 32)        0         \n",
      " g2D)                                                            \n",
      "                                                                 \n",
      " conv2d_18 (Conv2D)          (None, 85, 85, 64)        18496     \n",
      "                                                                 \n",
      " conv2d_19 (Conv2D)          (None, 85, 85, 64)        36928     \n",
      "                                                                 \n",
      " max_pooling2d_7 (MaxPoolin  (None, 28, 28, 64)        0         \n",
      " g2D)                                                            \n",
      "                                                                 \n",
      " conv2d_20 (Conv2D)          (None, 28, 28, 128)       73856     \n",
      "                                                                 \n",
      " conv2d_21 (Conv2D)          (None, 28, 28, 128)       147584    \n",
      "                                                                 \n",
      " max_pooling2d_8 (MaxPoolin  (None, 9, 9, 128)         0         \n",
      " g2D)                                                            \n",
      "                                                                 \n",
      " conv2d_22 (Conv2D)          (None, 9, 9, 256)         295168    \n",
      "                                                                 \n",
      " conv2d_23 (Conv2D)          (None, 9, 9, 256)         590080    \n",
      "                                                                 \n",
      " flatten_2 (Flatten)         (None, 20736)             0         \n",
      "                                                                 \n",
      " dense_4 (Dense)             (None, 1568)              32515616  \n",
      "                                                                 \n",
      " dropout_2 (Dropout)         (None, 1568)              0         \n",
      "                                                                 \n",
      " dense_5 (Dense)             (None, 38)                59622     \n",
      "                                                                 \n",
      "=================================================================\n",
      "Total params: 33747494 (128.74 MB)\n",
      "Trainable params: 33747494 (128.74 MB)\n",
      "Non-trainable params: 0 (0.00 Byte)\n",
      "_________________________________________________________________\n"
     ]
    }
   ],
   "source": [
    "model = keras.Sequential()\n",
    "\n",
    "model.add(keras.layers.Conv2D(32,(3,3),activation=\"relu\",padding=\"same\",input_shape=(256,256,3)))\n",
    "model.add(keras.layers.Conv2D(32,(3,3),activation=\"relu\",padding=\"same\"))\n",
    "model.add(keras.layers.MaxPooling2D(3,3))\n",
    "\n",
    "model.add(keras.layers.Conv2D(64,(3,3),activation=\"relu\",padding=\"same\"))\n",
    "model.add(keras.layers.Conv2D(64,(3,3),activation=\"relu\",padding=\"same\"))\n",
    "model.add(keras.layers.MaxPooling2D(3,3))\n",
    "\n",
    "model.add(keras.layers.Conv2D(128,(3,3),activation=\"relu\",padding=\"same\"))\n",
    "model.add(keras.layers.Conv2D(128,(3,3),activation=\"relu\",padding=\"same\"))\n",
    "model.add(keras.layers.MaxPooling2D(3,3))\n",
    "\n",
    "model.add(keras.layers.Conv2D(256,(3,3),activation=\"relu\",padding=\"same\"))\n",
    "model.add(keras.layers.Conv2D(256,(3,3),activation=\"relu\",padding=\"same\"))\n",
    "\n",
    "model.add(keras.layers.Flatten())\n",
    "\n",
    "model.add(keras.layers.Dense(1568,activation=\"relu\"))\n",
    "model.add(keras.layers.Dropout(0.5))\n",
    "\n",
    "model.add(keras.layers.Dense(38,activation=\"softmax\"))\n",
    "\n",
    "opt = keras.optimizers.Adam(learning_rate=0.0001)\n",
    "model.compile(optimizer=opt,loss=\"sparse_categorical_crossentropy\",metrics=['accuracy'])\n",
    "model.summary()"
   ]
  },
  {
   "cell_type": "code",
   "execution_count": 8,
   "id": "0ec6fb42-d76c-4df1-82fc-c37c6fc52527",
   "metadata": {
    "execution": {
     "iopub.execute_input": "2023-09-27T09:57:35.341460Z",
     "iopub.status.busy": "2023-09-27T09:57:35.341072Z",
     "iopub.status.idle": "2023-09-27T10:26:53.738975Z",
     "shell.execute_reply": "2023-09-27T10:26:53.738403Z",
     "shell.execute_reply.started": "2023-09-27T09:57:35.341436Z"
    }
   },
   "outputs": [
    {
     "name": "stdout",
     "output_type": "stream",
     "text": [
      "2197/2197 [==============================] - 1758s 800ms/step - loss: 1.4425 - accuracy: 0.5764 - val_loss: 0.5286 - val_accuracy: 0.8333\n"
     ]
    }
   ],
   "source": [
    "ep = 1\n",
    "history = model.fit_generator(train_gen,\n",
    "          validation_data=test_gen,\n",
    "          epochs = ep)"
   ]
  },
  {
   "cell_type": "code",
   "execution_count": 9,
   "id": "dce2e0c9-e27f-48a9-9a96-124f7a5288cb",
   "metadata": {
    "execution": {
     "iopub.execute_input": "2023-09-27T10:26:53.740350Z",
     "iopub.status.busy": "2023-09-27T10:26:53.740043Z",
     "iopub.status.idle": "2023-09-27T10:26:54.546980Z",
     "shell.execute_reply": "2023-09-27T10:26:54.546326Z",
     "shell.execute_reply.started": "2023-09-27T10:26:53.740329Z"
    }
   },
   "outputs": [],
   "source": [
    "# Save the model to a file\n",
    "model.save('small_model.h5')"
   ]
  },
  {
   "cell_type": "code",
   "execution_count": null,
   "id": "fe8e4891-6e07-4d66-93b3-fef5dbc2924b",
   "metadata": {},
   "outputs": [],
   "source": []
  },
  {
   "cell_type": "code",
   "execution_count": 9,
   "id": "c1d7a8b1-b4fd-46e9-a5b9-85d5ce59e707",
   "metadata": {
    "execution": {
     "iopub.execute_input": "2023-09-26T06:16:33.904723Z",
     "iopub.status.busy": "2023-09-26T06:16:33.904334Z",
     "iopub.status.idle": "2023-09-26T06:16:36.013361Z",
     "shell.execute_reply": "2023-09-26T06:16:36.012716Z",
     "shell.execute_reply.started": "2023-09-26T06:16:33.904701Z"
    }
   },
   "outputs": [],
   "source": [
    "from keras.models import load_model\n",
    "\n",
    "# Load the saved model\n",
    "loaded_model = load_model('my_cnn_model.h5')\n"
   ]
  },
  {
   "cell_type": "code",
   "execution_count": 10,
   "id": "1600ce01-f382-4da4-bf02-0a92a184c291",
   "metadata": {
    "execution": {
     "iopub.execute_input": "2023-09-26T06:18:28.978627Z",
     "iopub.status.busy": "2023-09-26T06:18:28.978229Z",
     "iopub.status.idle": "2023-09-26T06:19:58.519942Z",
     "shell.execute_reply": "2023-09-26T06:19:58.519263Z",
     "shell.execute_reply.started": "2023-09-26T06:18:28.978605Z"
    }
   },
   "outputs": [
    {
     "name": "stdout",
     "output_type": "stream",
     "text": [
      "INFO:tensorflow:Assets written to: /tmp/tmpvkwwe9dx/assets\n"
     ]
    },
    {
     "name": "stderr",
     "output_type": "stream",
     "text": [
      "INFO:tensorflow:Assets written to: /tmp/tmpvkwwe9dx/assets\n",
      "2023-09-26 06:18:33.798949: W tensorflow/compiler/mlir/lite/python/tf_tfl_flatbuffer_helpers.cc:364] Ignored output_format.\n",
      "2023-09-26 06:18:33.798994: W tensorflow/compiler/mlir/lite/python/tf_tfl_flatbuffer_helpers.cc:367] Ignored drop_control_dependency.\n",
      "2023-09-26 06:18:33.801375: I tensorflow/cc/saved_model/reader.cc:45] Reading SavedModel from: /tmp/tmpvkwwe9dx\n",
      "2023-09-26 06:18:33.804354: I tensorflow/cc/saved_model/reader.cc:91] Reading meta graph with tags { serve }\n",
      "2023-09-26 06:18:33.804377: I tensorflow/cc/saved_model/reader.cc:132] Reading SavedModel debug info (if present) from: /tmp/tmpvkwwe9dx\n",
      "2023-09-26 06:18:33.812137: I tensorflow/compiler/mlir/mlir_graph_optimization_pass.cc:375] MLIR V1 optimization pass is not enabled\n",
      "2023-09-26 06:18:33.814300: I tensorflow/cc/saved_model/loader.cc:231] Restoring SavedModel bundle.\n",
      "2023-09-26 06:18:34.064643: I tensorflow/cc/saved_model/loader.cc:215] Running initialization op on SavedModel bundle at path: /tmp/tmpvkwwe9dx\n",
      "2023-09-26 06:18:34.091555: I tensorflow/cc/saved_model/loader.cc:314] SavedModel load for tags { serve }; Status: success: OK. Took 290183 microseconds.\n",
      "2023-09-26 06:18:34.188905: I tensorflow/compiler/mlir/tensorflow/utils/dump_mlir_util.cc:255] disabling MLIR crash reproducer, set env var `MLIR_CRASH_REPRODUCER_DIRECTORY` to enable.\n"
     ]
    }
   ],
   "source": [
    "import tensorflow as tf\n",
    "\n",
    "# Load the saved Keras model\n",
    "loaded_model = tf.keras.models.load_model('my_cnn_model.h5')\n",
    "\n",
    "# Convert the model to TFLite format\n",
    "converter = tf.lite.TFLiteConverter.from_keras_model(loaded_model)\n",
    "tflite_model = converter.convert()\n",
    "\n",
    "# Save the TFLite model to a file\n",
    "with open('my_cnn_model.tflite', 'wb') as f:\n",
    "    f.write(tflite_model)\n"
   ]
  },
  {
   "cell_type": "code",
   "execution_count": 5,
   "id": "9bed6267-6562-4d59-ac3f-a5549874cb80",
   "metadata": {
    "execution": {
     "iopub.execute_input": "2023-09-26T14:42:05.244616Z",
     "iopub.status.busy": "2023-09-26T14:42:05.244003Z",
     "iopub.status.idle": "2023-09-26T14:42:05.307081Z",
     "shell.execute_reply": "2023-09-26T14:42:05.306091Z",
     "shell.execute_reply.started": "2023-09-26T14:42:05.244586Z"
    }
   },
   "outputs": [
    {
     "name": "stderr",
     "output_type": "stream",
     "text": [
      "INFO: Created TensorFlow Lite XNNPACK delegate for CPU.\n"
     ]
    }
   ],
   "source": [
    "interpreter = tf.lite.Interpreter(model_path='/home/ashutosh/work/od/plant_disease/AllPlantDiseaseCNN.tflite')\n",
    "interpreter.allocate_tensors()"
   ]
  },
  {
   "cell_type": "code",
   "execution_count": 6,
   "id": "ddb22590-3e21-4cac-b6b3-c88dd015bd23",
   "metadata": {
    "execution": {
     "iopub.execute_input": "2023-09-26T14:42:11.582670Z",
     "iopub.status.busy": "2023-09-26T14:42:11.582248Z",
     "iopub.status.idle": "2023-09-26T14:42:11.586115Z",
     "shell.execute_reply": "2023-09-26T14:42:11.585340Z",
     "shell.execute_reply.started": "2023-09-26T14:42:11.582645Z"
    }
   },
   "outputs": [],
   "source": [
    "input_data = \"/home/ashutosh/work//home/ashutosh/work/od/plant_disease/new-plant-diseases-dataset/new plant diseases dataset(augmented)/New Plant Diseases Dataset(Augmented)/train/Apple___Cedar_apple_rust/025b2b9a-0ec4-4132-96ac-7f2832d0db4a___FREC_C.Rust 3655_180deg.JPG\""
   ]
  },
  {
   "cell_type": "code",
   "execution_count": 8,
   "id": "7955b6f3-da42-40db-a970-4cddc9eb410e",
   "metadata": {
    "execution": {
     "iopub.execute_input": "2023-09-26T14:42:30.062048Z",
     "iopub.status.busy": "2023-09-26T14:42:30.061646Z",
     "iopub.status.idle": "2023-09-26T14:42:30.110221Z",
     "shell.execute_reply": "2023-09-26T14:42:30.109469Z",
     "shell.execute_reply.started": "2023-09-26T14:42:30.062022Z"
    }
   },
   "outputs": [
    {
     "ename": "ValueError",
     "evalue": "Cannot set tensor: Got value of type STRING but expected type FLOAT32 for input 0, name: serving_default_conv2d_input:0 ",
     "output_type": "error",
     "traceback": [
      "\u001b[0;31m---------------------------------------------------------------------------\u001b[0m",
      "\u001b[0;31mValueError\u001b[0m                                Traceback (most recent call last)",
      "Cell \u001b[0;32mIn[8], line 1\u001b[0m\n\u001b[0;32m----> 1\u001b[0m \u001b[43minterpreter\u001b[49m\u001b[38;5;241;43m.\u001b[39;49m\u001b[43mset_tensor\u001b[49m\u001b[43m(\u001b[49m\u001b[38;5;241;43m0\u001b[39;49m\u001b[43m,\u001b[49m\u001b[43m \u001b[49m\u001b[43minput_data\u001b[49m\u001b[43m)\u001b[49m  \u001b[38;5;66;03m# Set the input tensor\u001b[39;00m\n\u001b[1;32m      2\u001b[0m interpreter\u001b[38;5;241m.\u001b[39minvoke()\n",
      "File \u001b[0;32m~/miniconda3/envs/other_od/lib/python3.10/site-packages/tensorflow/lite/python/interpreter.py:720\u001b[0m, in \u001b[0;36mInterpreter.set_tensor\u001b[0;34m(self, tensor_index, value)\u001b[0m\n\u001b[1;32m    704\u001b[0m \u001b[38;5;28;01mdef\u001b[39;00m \u001b[38;5;21mset_tensor\u001b[39m(\u001b[38;5;28mself\u001b[39m, tensor_index, value):\n\u001b[1;32m    705\u001b[0m \u001b[38;5;250m  \u001b[39m\u001b[38;5;124;03m\"\"\"Sets the value of the input tensor.\u001b[39;00m\n\u001b[1;32m    706\u001b[0m \n\u001b[1;32m    707\u001b[0m \u001b[38;5;124;03m  Note this copies data in `value`.\u001b[39;00m\n\u001b[0;32m   (...)\u001b[0m\n\u001b[1;32m    718\u001b[0m \u001b[38;5;124;03m    ValueError: If the interpreter could not set the tensor.\u001b[39;00m\n\u001b[1;32m    719\u001b[0m \u001b[38;5;124;03m  \"\"\"\u001b[39;00m\n\u001b[0;32m--> 720\u001b[0m   \u001b[38;5;28;43mself\u001b[39;49m\u001b[38;5;241;43m.\u001b[39;49m\u001b[43m_interpreter\u001b[49m\u001b[38;5;241;43m.\u001b[39;49m\u001b[43mSetTensor\u001b[49m\u001b[43m(\u001b[49m\u001b[43mtensor_index\u001b[49m\u001b[43m,\u001b[49m\u001b[43m \u001b[49m\u001b[43mvalue\u001b[49m\u001b[43m)\u001b[49m\n",
      "\u001b[0;31mValueError\u001b[0m: Cannot set tensor: Got value of type STRING but expected type FLOAT32 for input 0, name: serving_default_conv2d_input:0 "
     ]
    }
   ],
   "source": [
    "interpreter.set_tensor(0, input_data)  # Set the input tensor\n",
    "interpreter.invoke()"
   ]
  },
  {
   "cell_type": "code",
   "execution_count": 17,
   "id": "bdf389bc-f189-4d21-9e95-f4c6b3e2057e",
   "metadata": {
    "execution": {
     "iopub.execute_input": "2023-09-26T06:46:43.326998Z",
     "iopub.status.busy": "2023-09-26T06:46:43.326590Z",
     "iopub.status.idle": "2023-09-26T06:46:43.331755Z",
     "shell.execute_reply": "2023-09-26T06:46:43.331204Z",
     "shell.execute_reply.started": "2023-09-26T06:46:43.326973Z"
    }
   },
   "outputs": [
    {
     "data": {
      "text/plain": [
       "[{'name': 'serving_default_conv2d_input:0',\n",
       "  'index': 0,\n",
       "  'shape': array([  1, 100, 100,   3], dtype=int32),\n",
       "  'shape_signature': array([ -1, 100, 100,   3], dtype=int32),\n",
       "  'dtype': numpy.float32,\n",
       "  'quantization': (0.0, 0),\n",
       "  'quantization_parameters': {'scales': array([], dtype=float32),\n",
       "   'zero_points': array([], dtype=int32),\n",
       "   'quantized_dimension': 0},\n",
       "  'sparsity_parameters': {}}]"
      ]
     },
     "execution_count": 17,
     "metadata": {},
     "output_type": "execute_result"
    }
   ],
   "source": [
    "input_details = interpreter.get_input_details()\n",
    "input_details"
   ]
  },
  {
   "cell_type": "code",
   "execution_count": 2,
   "id": "05281fa5-4e1e-4003-8635-4ea5774f6652",
   "metadata": {
    "execution": {
     "iopub.execute_input": "2023-09-26T14:41:07.740021Z",
     "iopub.status.busy": "2023-09-26T14:41:07.739608Z",
     "iopub.status.idle": "2023-09-26T14:41:07.852562Z",
     "shell.execute_reply": "2023-09-26T14:41:07.851844Z",
     "shell.execute_reply.started": "2023-09-26T14:41:07.739995Z"
    }
   },
   "outputs": [
    {
     "name": "stdout",
     "output_type": "stream",
     "text": [
      "/home/ashutosh/work/od/plant_disease\n"
     ]
    }
   ],
   "source": [
    "!pwd"
   ]
  },
  {
   "cell_type": "code",
   "execution_count": 10,
   "id": "acb69370-bd17-47d5-a74c-da1081fdf722",
   "metadata": {
    "execution": {
     "iopub.execute_input": "2023-09-29T14:42:49.983022Z",
     "iopub.status.busy": "2023-09-29T14:42:49.982640Z",
     "iopub.status.idle": "2023-09-29T14:42:49.988966Z",
     "shell.execute_reply": "2023-09-29T14:42:49.988378Z",
     "shell.execute_reply.started": "2023-09-29T14:42:49.982999Z"
    }
   },
   "outputs": [
    {
     "data": {
      "text/plain": [
       "'/home/ashutosh/work/od/plant_disease'"
      ]
     },
     "execution_count": 10,
     "metadata": {},
     "output_type": "execute_result"
    }
   ],
   "source": [
    "pwd"
   ]
  },
  {
   "cell_type": "code",
   "execution_count": null,
   "id": "19547810-97da-4270-ac30-f4cdc233af50",
   "metadata": {},
   "outputs": [],
   "source": []
  }
 ],
 "metadata": {
  "kernelspec": {
   "display_name": "other_od",
   "language": "python",
   "name": "myenv"
  },
  "language_info": {
   "codemirror_mode": {
    "name": "ipython",
    "version": 3
   },
   "file_extension": ".py",
   "mimetype": "text/x-python",
   "name": "python",
   "nbconvert_exporter": "python",
   "pygments_lexer": "ipython3",
   "version": "3.10.0"
  }
 },
 "nbformat": 4,
 "nbformat_minor": 5
}
